{
 "cells": [
  {
   "cell_type": "code",
   "execution_count": 2,
   "id": "de19fefd",
   "metadata": {},
   "outputs": [
    {
     "data": {
      "text/plain": [
       "-1"
      ]
     },
     "execution_count": 2,
     "metadata": {},
     "output_type": "execute_result"
    }
   ],
   "source": [
    "# load colour image\n",
    "import cv2\n",
    "image = cv2.imread('./messi.jpg')\n",
    "cv2.imshow('image',image)\n",
    "cv2.waitKey(0)"
   ]
  },
  {
   "cell_type": "code",
   "execution_count": 4,
   "id": "39a98a54",
   "metadata": {},
   "outputs": [],
   "source": [
    "import cv2\n",
    "\n",
    "# load and display color image \n",
    "a = cv2.imread('./messi.jpg')\n",
    "cv2.imshow('image',a)\n",
    "cv2.waitKey(0)\n",
    "cv2.destroyWindow('image');\n",
    "\n",
    "# load and display image in grayscale format\n",
    "b = cv2.imread('./messi.jpg',cv2.IMREAD_GRAYSCALE)\n",
    "cv2.imshow('gray',b)\n",
    "cv2.waitKey(0)\n",
    "cv2.destroyWindow('gray');\n"
   ]
  },
  {
   "cell_type": "code",
   "execution_count": 3,
   "id": "40d4a4f4",
   "metadata": {},
   "outputs": [
    {
     "data": {
      "text/plain": [
       "562248"
      ]
     },
     "execution_count": 3,
     "metadata": {},
     "output_type": "execute_result"
    }
   ],
   "source": [
    "# shape of color image\n",
    "import cv2\n",
    "import numpy as np\n",
    "image = cv2.imread('./messi.jpg')\n",
    "shape = image.shape\n",
    "shape[0]*shape[1]*shape[2]"
   ]
  },
  {
   "cell_type": "code",
   "execution_count": 4,
   "id": "b9b25f6d",
   "metadata": {},
   "outputs": [
    {
     "data": {
      "text/plain": [
       "(342, 548, 3)"
      ]
     },
     "execution_count": 4,
     "metadata": {},
     "output_type": "execute_result"
    }
   ],
   "source": [
    "shape"
   ]
  },
  {
   "cell_type": "code",
   "execution_count": null,
   "id": "e33614bb",
   "metadata": {},
   "outputs": [],
   "source": []
  },
  {
   "cell_type": "code",
   "execution_count": 18,
   "id": "a3089926",
   "metadata": {},
   "outputs": [],
   "source": [
    "# shape of gray image\n",
    "import cv2\n",
    "import numpy as np\n",
    "image = cv2.imread('./messi.jpg',cv2.IMREAD_GRAYSCALE)\n",
    "shape = image.shape"
   ]
  },
  {
   "cell_type": "code",
   "execution_count": 19,
   "id": "67aa5c54",
   "metadata": {},
   "outputs": [
    {
     "data": {
      "text/plain": [
       "(342, 548)"
      ]
     },
     "execution_count": 19,
     "metadata": {},
     "output_type": "execute_result"
    }
   ],
   "source": [
    "shape"
   ]
  },
  {
   "cell_type": "code",
   "execution_count": 20,
   "id": "3e636107",
   "metadata": {},
   "outputs": [
    {
     "data": {
      "text/plain": [
       "187416"
      ]
     },
     "execution_count": 20,
     "metadata": {},
     "output_type": "execute_result"
    }
   ],
   "source": [
    "shape[0]*shape[1]"
   ]
  },
  {
   "cell_type": "code",
   "execution_count": 31,
   "id": "4cdc3060",
   "metadata": {},
   "outputs": [
    {
     "name": "stdout",
     "output_type": "stream",
     "text": [
      "rows 342\n",
      "Columns 548\n"
     ]
    },
    {
     "data": {
      "text/plain": [
       "dtype('uint8')"
      ]
     },
     "execution_count": 31,
     "metadata": {},
     "output_type": "execute_result"
    }
   ],
   "source": [
    "# calcualte number of rows column and channels\n",
    "import cv2\n",
    "import numpy as np\n",
    "image = cv2.imread('./messi.jpg')\n",
    "shape= image.shape\n",
    "print(\"rows\", shape[0])\n",
    "print('Columns', shape[1])\n",
    "print(\"channels\", shape[2])\n",
    "\n",
    "# calculate datatype\n",
    "image.dtype"
   ]
  },
  {
   "cell_type": "code",
   "execution_count": 5,
   "id": "f1e990af",
   "metadata": {},
   "outputs": [
    {
     "name": "stdout",
     "output_type": "stream",
     "text": [
      "image intensity [157 166 200]\n",
      "blue intensity 200\n",
      "red intensity 157\n",
      "green intensity 166\n"
     ]
    }
   ],
   "source": [
    "# print pixel intensities\n",
    "import cv2\n",
    "import numpy as np\n",
    "image = cv2.imread('./messi.jpg')\n",
    "print('image intensity', image[100,100])\n",
    "(r,g,b) = image[100,100];\n",
    "print('blue intensity', b)\n",
    "print('red intensity', r)\n",
    "print('green intensity', g)"
   ]
  },
  {
   "cell_type": "code",
   "execution_count": null,
   "id": "e333c4d7",
   "metadata": {},
   "outputs": [],
   "source": []
  },
  {
   "cell_type": "code",
   "execution_count": 7,
   "id": "2998a39d",
   "metadata": {},
   "outputs": [
    {
     "data": {
      "text/plain": [
       "True"
      ]
     },
     "execution_count": 7,
     "metadata": {},
     "output_type": "execute_result"
    }
   ],
   "source": [
    "# modification of original image with green and read square patch at top left and top right\n",
    "import cv2\n",
    "import numpy as np\n",
    "image = cv2.imread('./messi.jpg')\n",
    "image[0:100,0:100] = (0,255,0)\n",
    "image[0:100, 448:548] = (0,0,255)\n",
    "cv2.imshow('converted', image)\n",
    "cv2.waitKey(0)\n",
    "cv2.imwrite('modified_image.jpg', image)"
   ]
  },
  {
   "cell_type": "code",
   "execution_count": null,
   "id": "db82726d",
   "metadata": {},
   "outputs": [],
   "source": []
  },
  {
   "cell_type": "code",
   "execution_count": null,
   "id": "1bb3dc90",
   "metadata": {},
   "outputs": [],
   "source": []
  },
  {
   "cell_type": "code",
   "execution_count": 3,
   "id": "26dee859",
   "metadata": {},
   "outputs": [
    {
     "data": {
      "text/plain": [
       "13"
      ]
     },
     "execution_count": 3,
     "metadata": {},
     "output_type": "execute_result"
    }
   ],
   "source": [
    "# load modified image\n",
    "import cv2\n",
    "modified_image = cv2.imread('./modified_image.jpg')\n",
    "cv2.imshow('modified', modified_image)\n",
    "cv2.waitKey(0)\n"
   ]
  },
  {
   "cell_type": "code",
   "execution_count": 4,
   "id": "c5abc4ea",
   "metadata": {},
   "outputs": [],
   "source": [
    "cv2.destroyWindow('modified');"
   ]
  },
  {
   "cell_type": "code",
   "execution_count": 46,
   "id": "1ffc706b",
   "metadata": {},
   "outputs": [
    {
     "data": {
      "text/plain": [
       "-1"
      ]
     },
     "execution_count": 46,
     "metadata": {},
     "output_type": "execute_result"
    }
   ],
   "source": [
    "# suppressing green and blue channel\n",
    "import cv2\n",
    "import numpy as np\n",
    "image = cv2.imread('./messi.jpg')\n",
    "shape = image.shape\n",
    "image[:, :, 0] = np.zeros([shape[0], shape[1]] )\n",
    "image[:, :, 1] = np.zeros([shape[0], shape[1]] )\n",
    "cv2.imwrite('supress_01.jpg', image)\n",
    "cv2.imshow('14', image)\n",
    "cv2.waitKey(0)\n"
   ]
  },
  {
   "cell_type": "code",
   "execution_count": 32,
   "id": "4f89070d",
   "metadata": {},
   "outputs": [
    {
     "data": {
      "text/plain": [
       "-1"
      ]
     },
     "execution_count": 32,
     "metadata": {},
     "output_type": "execute_result"
    }
   ],
   "source": [
    "# find region of interest and shift the region of interest\n",
    "import cv2\n",
    "import numpy as np\n",
    "image = cv2.imread('./messi.jpg')\n",
    "\n",
    "roi = image[285:340, 335:390]\n",
    "image[10:65, 210:265] = roi\n",
    "cv2.imshow('show', image)\n",
    "cv2.waitKey(0)"
   ]
  },
  {
   "cell_type": "code",
   "execution_count": null,
   "id": "367c9c6d",
   "metadata": {},
   "outputs": [],
   "source": [
    "# two level quantization\n",
    "import cv2\n",
    "import numpy as np\n",
    "img = cv2.imread('./messi.jpg')\n",
    "for k in range(img.shape[2]):\n",
    "    for i in range(img.shape[0]):\n",
    "        for j in range(img.shape[1]):\n",
    "            if img[i][j][k] < 128:\n",
    "                img[i][j][k] = 0\n",
    "            else:\n",
    "                img[i][j][k] = 128\n",
    "cv2.imwrite('twoLevelQuant.jpg', img)\n",
    "cv2.imread('twoLevelQuant.jpg')\n",
    "cv2.waitKey(0)\n",
    "cv2.destroyAllWindows()"
   ]
  },
  {
   "cell_type": "code",
   "execution_count": null,
   "id": "fe1b2e8b",
   "metadata": {},
   "outputs": [],
   "source": [
    "## Four level quantization\n",
    "import cv2\n",
    "import numpy as np\n",
    "img = cv2.imread('./messi.jpg')\n",
    "for k in range(img.shape[2]):\n",
    "    for i in range(img.shape[0]):\n",
    "        for j in range(img.shape[1]):\n",
    "            if 0 < img[i][j][k] <= 63:\n",
    "                img[i][j][k] = 0\n",
    "            elif 64 < img[i][j][k] <= 127:\n",
    "                img[i][j][k] = 64\n",
    "            elif 128 < img[i][j][k] <= 191:\n",
    "                img[i][j][k] = 128\n",
    "            else:\n",
    "                img[i][j][k] = 192     \n",
    "cv2.imwrite('FourLevelQuant.jpg', img)\n",
    "cv2.imread('FourLevelQuant.jpg')\n",
    "cv2.waitKey(0)\n",
    "cv2.destroyAllWindows()"
   ]
  },
  {
   "cell_type": "code",
   "execution_count": 49,
   "id": "29182bf9",
   "metadata": {},
   "outputs": [],
   "source": [
    "# eight level quantization\n",
    "import cv2\n",
    "import numpy as np\n",
    "img = cv2.imread('./messi.jpg')\n",
    "for k in range(img.shape[2]):\n",
    "    for i in range(img.shape[0]):\n",
    "        for j in range(img.shape[1]):\n",
    "            if 0 < img[i][j][k] <= 33:\n",
    "                img[i][j][k] = 0\n",
    "            elif 34 < img[i][j][k] <= 63:\n",
    "                img[i][j][k] = 32\n",
    "            elif 64 < img[i][j][k] <= 95:\n",
    "                img[i][j][k] = 64\n",
    "            elif 96 < img[i][j][k] <= 127:\n",
    "                img[i][j][k] = 96\n",
    "            elif 128 < img[i][j][k] <= 159:\n",
    "                img[i][j][k] = 128\n",
    "            elif 160 < img[i][j][k] <= 191:\n",
    "                img[i][j][k] = 160\n",
    "            elif 192 < img[i][j][k] <= 223:\n",
    "                img[i][j][k] = 192\n",
    "            else:\n",
    "                img[i][j][k] = 224   \n",
    "cv2.imwrite('Eightlevelquant.jpg', img)\n",
    "cv2.imread('Eightlevelquant.jpg')\n",
    "cv2.waitKey(0)\n",
    "cv2.destroyAllWindows()"
   ]
  },
  {
   "cell_type": "code",
   "execution_count": null,
   "id": "3a6cfa1c",
   "metadata": {},
   "outputs": [],
   "source": []
  }
 ],
 "metadata": {
  "kernelspec": {
   "display_name": "Python 3 (ipykernel)",
   "language": "python",
   "name": "python3"
  },
  "language_info": {
   "codemirror_mode": {
    "name": "ipython",
    "version": 3
   },
   "file_extension": ".py",
   "mimetype": "text/x-python",
   "name": "python",
   "nbconvert_exporter": "python",
   "pygments_lexer": "ipython3",
   "version": "3.10.9"
  }
 },
 "nbformat": 4,
 "nbformat_minor": 5
}
