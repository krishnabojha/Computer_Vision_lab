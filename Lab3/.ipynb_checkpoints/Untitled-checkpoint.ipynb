{
 "cells": [
  {
   "cell_type": "code",
   "execution_count": 81,
   "id": "c7afc4f7",
   "metadata": {},
   "outputs": [
    {
     "data": {
      "text/plain": [
       "-1"
      ]
     },
     "execution_count": 81,
     "metadata": {},
     "output_type": "execute_result"
    }
   ],
   "source": [
    "import cv2\n",
    "image = cv2.imread('./images/wirebond.tif')\n",
    "cv2.imshow('image', image)\n",
    "cv2.waitKey(0)"
   ]
  },
  {
   "cell_type": "code",
   "execution_count": 53,
   "id": "1488d444",
   "metadata": {},
   "outputs": [],
   "source": [
    "# Convert BGR_toRGB\n",
    "rgbImage = cv2.cvtColor(image, cv2.COLOR_BGR2RGB)"
   ]
  },
  {
   "cell_type": "code",
   "execution_count": 82,
   "id": "32e512d0",
   "metadata": {},
   "outputs": [],
   "source": [
    "# seKernel = cv2.morphologyEx(rgbImage,cv2.MORPH_RECT, (11,11))\n",
    "SE = cv2.getStructuringElement(cv2.MORPH_CROSS,(11,11), [-1,-1])"
   ]
  },
  {
   "cell_type": "code",
   "execution_count": null,
   "id": "60cb22ea",
   "metadata": {},
   "outputs": [],
   "source": []
  },
  {
   "cell_type": "code",
   "execution_count": 74,
   "id": "cb0684f5",
   "metadata": {},
   "outputs": [
    {
     "data": {
      "text/plain": [
       "array([[0, 0, 0, 0, 0, 1, 0, 0, 0, 0, 0],\n",
       "       [0, 0, 0, 0, 0, 1, 0, 0, 0, 0, 0],\n",
       "       [0, 0, 0, 0, 0, 1, 0, 0, 0, 0, 0],\n",
       "       [0, 0, 0, 0, 0, 1, 0, 0, 0, 0, 0],\n",
       "       [0, 0, 0, 0, 0, 1, 0, 0, 0, 0, 0],\n",
       "       [1, 1, 1, 1, 1, 1, 1, 1, 1, 1, 1],\n",
       "       [0, 0, 0, 0, 0, 1, 0, 0, 0, 0, 0],\n",
       "       [0, 0, 0, 0, 0, 1, 0, 0, 0, 0, 0],\n",
       "       [0, 0, 0, 0, 0, 1, 0, 0, 0, 0, 0],\n",
       "       [0, 0, 0, 0, 0, 1, 0, 0, 0, 0, 0],\n",
       "       [0, 0, 0, 0, 0, 1, 0, 0, 0, 0, 0]], dtype=uint8)"
      ]
     },
     "execution_count": 74,
     "metadata": {},
     "output_type": "execute_result"
    }
   ],
   "source": [
    "SE"
   ]
  },
  {
   "cell_type": "code",
   "execution_count": 85,
   "id": "ebaa24dd",
   "metadata": {},
   "outputs": [],
   "source": [
    "erosion1 = cv2.erode(image, SE, None,(-1,-1), 1, cv2.BORDER_ISOLATED)"
   ]
  },
  {
   "cell_type": "code",
   "execution_count": 86,
   "id": "77fdc18d",
   "metadata": {},
   "outputs": [
    {
     "data": {
      "text/plain": [
       "-1"
      ]
     },
     "execution_count": 86,
     "metadata": {},
     "output_type": "execute_result"
    }
   ],
   "source": [
    "cv2.imshow('erosion1', erosion1)\n",
    "cv2.waitKey(0)"
   ]
  },
  {
   "cell_type": "code",
   "execution_count": 90,
   "id": "c7f95df7",
   "metadata": {},
   "outputs": [],
   "source": [
    "erosion2 = cv2.erode(image, SE, None,(0,0), 1, cv2.BORDER_ISOLATED)"
   ]
  },
  {
   "cell_type": "code",
   "execution_count": 91,
   "id": "8105e32e",
   "metadata": {},
   "outputs": [
    {
     "data": {
      "text/plain": [
       "-1"
      ]
     },
     "execution_count": 91,
     "metadata": {},
     "output_type": "execute_result"
    }
   ],
   "source": [
    "cv2.imshow('image', image)\n",
    "cv2.imshow('erosion1', erosion1)\n",
    "cv2.imshow('erosion2', erosion2)\n",
    "cv2.waitKey(0)"
   ]
  },
  {
   "cell_type": "code",
   "execution_count": null,
   "id": "aabfa223",
   "metadata": {},
   "outputs": [],
   "source": []
  },
  {
   "cell_type": "code",
   "execution_count": null,
   "id": "e705404d",
   "metadata": {},
   "outputs": [],
   "source": []
  },
  {
   "cell_type": "code",
   "execution_count": 68,
   "id": "382e62e9",
   "metadata": {},
   "outputs": [
    {
     "data": {
      "text/plain": [
       "-1"
      ]
     },
     "execution_count": 68,
     "metadata": {},
     "output_type": "execute_result"
    }
   ],
   "source": [
    "# Question 6 (dilation)\n",
    "import cv2\n",
    "imageText = cv2.imread('./images/text.tif')\n",
    "cv2.imshow('image', imageText)\n",
    "cv2.waitKey(0)"
   ]
  },
  {
   "cell_type": "code",
   "execution_count": 109,
   "id": "d260000d",
   "metadata": {},
   "outputs": [],
   "source": [
    "# Convert BGR_toRGB\n",
    "rgbImageD = cv2.cvtColor(imageText, cv2.COLOR_BGR2RGB)\n",
    "SE = cv2.getStructuringElement(cv2.MORPH_ELLIPSE,(3,3), [-1,-1])\n",
    "dilate1 = cv2.dilate(rgbImageD, SE, None,(-1,-1), 1, cv2.BORDER_ISOLATED)\n",
    "dilate2 = cv2.dilate(rgbImageD, SE, None,(1,1), 1, cv2.BORDER_ISOLATED)"
   ]
  },
  {
   "cell_type": "code",
   "execution_count": 110,
   "id": "4bd096b4",
   "metadata": {},
   "outputs": [
    {
     "data": {
      "text/plain": [
       "-1"
      ]
     },
     "execution_count": 110,
     "metadata": {},
     "output_type": "execute_result"
    }
   ],
   "source": [
    "cv2.imshow('image', rgbImageD)\n",
    "cv2.imshow('dilate1', dilate1)\n",
    "cv2.imshow('dilate2', dilate2)\n",
    "cv2.waitKey(0)"
   ]
  },
  {
   "cell_type": "code",
   "execution_count": 121,
   "id": "8f61deea",
   "metadata": {},
   "outputs": [
    {
     "data": {
      "text/plain": [
       "-1"
      ]
     },
     "execution_count": 121,
     "metadata": {},
     "output_type": "execute_result"
    }
   ],
   "source": [
    "# Question 11\n",
    "# Question 6 (dilation)\n",
    "import cv2\n",
    "import numpy as np\n",
    "buildingGray = cv2.imread('./images/building.tif', cv2.IMREAD_GRAYSCALE)\n",
    "cv2.imshow('building', buildingGray)\n",
    "cv2.waitKey(0)"
   ]
  },
  {
   "cell_type": "code",
   "execution_count": 127,
   "id": "5b77f61a",
   "metadata": {},
   "outputs": [],
   "source": [
    "Sx = np.array([[-1, -2, -1], [0, 0, 0], [1, 2, 1]])\n",
    "Sy = np.array([[-1, 0, 1], [-2, 0, 2], [-1, 0, 1]])"
   ]
  },
  {
   "cell_type": "code",
   "execution_count": 129,
   "id": "07ebdacb",
   "metadata": {},
   "outputs": [],
   "source": [
    "grad_x = cv2.Sobel(buildingGray, cv2.CV_32F, 1, 0, 1, 0)\n",
    "grad_y = cv2.Sobel(buildingGray, cv2.CV_32F, 0, 1, 1, 0)"
   ]
  },
  {
   "cell_type": "code",
   "execution_count": 130,
   "id": "2e9184ff",
   "metadata": {},
   "outputs": [
    {
     "data": {
      "text/plain": [
       "array([[   0.,    0.,    0., ...,    0.,    0.,    0.],\n",
       "       [ -54.,  -64.,  -71., ...,    6.,   23.,   22.],\n",
       "       [ -16.,  -16.,  -10., ...,  -48.,  -48.,  -48.],\n",
       "       ...,\n",
       "       [   6.,  -81.,  -57., ...,  283.,  138.,   76.],\n",
       "       [-390., -467., -339., ...,  376.,  441.,  452.],\n",
       "       [   0.,    0.,    0., ...,    0.,    0.,    0.]], dtype=float32)"
      ]
     },
     "execution_count": 130,
     "metadata": {},
     "output_type": "execute_result"
    }
   ],
   "source": [
    "grad_y"
   ]
  },
  {
   "cell_type": "code",
   "execution_count": null,
   "id": "976333ad",
   "metadata": {},
   "outputs": [],
   "source": []
  }
 ],
 "metadata": {
  "kernelspec": {
   "display_name": "Python 3 (ipykernel)",
   "language": "python",
   "name": "python3"
  },
  "language_info": {
   "codemirror_mode": {
    "name": "ipython",
    "version": 3
   },
   "file_extension": ".py",
   "mimetype": "text/x-python",
   "name": "python",
   "nbconvert_exporter": "python",
   "pygments_lexer": "ipython3",
   "version": "3.10.9"
  }
 },
 "nbformat": 4,
 "nbformat_minor": 5
}
