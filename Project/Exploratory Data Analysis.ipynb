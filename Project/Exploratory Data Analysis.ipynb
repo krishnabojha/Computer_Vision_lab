{
 "cells": [
  {
   "cell_type": "markdown",
   "metadata": {},
   "source": [
    "# Objective\n",
    "- To perform exploratory data analysis on nepali license plate recognition dataset"
   ]
  },
  {
   "cell_type": "code",
   "execution_count": 5,
   "metadata": {},
   "outputs": [],
   "source": [
    "import matplotlib.pyplot as plt\n",
    "from PIL import Image\n",
    "import pandas as pd\n",
    "import os\n",
    "import glob\n",
    "import cv2\n",
    "%matplotlib inline"
   ]
  },
  {
   "cell_type": "markdown",
   "metadata": {},
   "source": [
    "Samples of each digit are placed in their respective directories. You'll need to extract *images.rar*."
   ]
  },
  {
   "cell_type": "code",
   "execution_count": 2,
   "metadata": {},
   "outputs": [],
   "source": [
    "images_dir = \"./images\"\n",
    "# list of all digits\n",
    "digits = list(map(str, range(10))) + [\"ba\", \"pa\"]\n",
    "# map digits to their respective directory path\n",
    "digits_dir = dict(zip(digits, map(lambda d: os.path.join(images_dir, d), digits)))"
   ]
  },
  {
   "cell_type": "code",
   "execution_count": 3,
   "metadata": {},
   "outputs": [
    {
     "data": {
      "text/plain": [
       "(['0', '1', '2', '3', '4', '5', '6', '7', '8', '9', 'ba', 'pa'],\n",
       " {'0': './images\\\\0',\n",
       "  '1': './images\\\\1',\n",
       "  '2': './images\\\\2',\n",
       "  '3': './images\\\\3',\n",
       "  '4': './images\\\\4',\n",
       "  '5': './images\\\\5',\n",
       "  '6': './images\\\\6',\n",
       "  '7': './images\\\\7',\n",
       "  '8': './images\\\\8',\n",
       "  '9': './images\\\\9',\n",
       "  'ba': './images\\\\ba',\n",
       "  'pa': './images\\\\pa'})"
      ]
     },
     "execution_count": 3,
     "metadata": {},
     "output_type": "execute_result"
    }
   ],
   "source": [
    "digits, digits_dir"
   ]
  },
  {
   "cell_type": "markdown",
   "metadata": {},
   "source": [
    "## Data analysis\n",
    "There are serveral things we want to check. First we'll check how many samples are there for each digit. Next we'll visualize some of the samples from each digit and then we'll look at color distribution of images for each digit."
   ]
  },
  {
   "cell_type": "code",
   "execution_count": 4,
   "metadata": {},
   "outputs": [
    {
     "name": "stdout",
     "output_type": "stream",
     "text": [
      "            count\n",
      "count   12.000000\n",
      "mean   169.416667\n",
      "std     39.442613\n",
      "min     96.000000\n",
      "25%    144.000000\n",
      "50%    173.500000\n",
      "75%    197.000000\n",
      "max    234.000000\n"
     ]
    },
    {
     "data": {
      "text/plain": [
       "<matplotlib.axes._subplots.AxesSubplot at 0x1b9caab1cc0>"
      ]
     },
     "execution_count": 4,
     "metadata": {},
     "output_type": "execute_result"
    },
    {
     "data": {
      "image/png": "[encoded data removed]",
      "text/plain": [
       "<matplotlib.figure.Figure at 0x1b9c8a24828>"
      ]
     },
     "metadata": {},
     "output_type": "display_data"
    }
   ],
   "source": [
    "digits_col = []\n",
    "total_files_col = [] \n",
    "for digit, folder in digits_dir.items():\n",
    "    total_files = len(glob.glob(os.path.join(folder, \"*.jpg\")))\n",
    "    digits_col.append(digit)\n",
    "    total_files_col.append(total_files)\n",
    "    \n",
    "# prepare a pandas dataframe and sort by digit\n",
    "sample_count_df = pd.DataFrame({'count': total_files_col}, index=digits_col).sort_index()\n",
    "print(sample_count_df.describe())\n",
    "lower_percentile = sample_count_df.describe()['count']['25%']\n",
    "\n",
    "fix, axes = plt.subplots(1, 2, figsize=(12, 5))\n",
    "sample_count_df.plot.bar(ax=axes[0], title=\"Samples per digit\")\n",
    "sample_count_df[sample_count_df['count'] < lower_percentile].plot.bar(ax=axes[1], title=\"Under Representend Samples\")"
   ]
  },
  {
   "cell_type": "markdown",
   "metadata": {},
   "source": [
    "It seems that digit **0** has the least i.e. 96 samples where as digit **pa** has the most (234). Digits **0, 8 and 9** are comparatively under-represented. If our model does not generalize well enough for these categories then we might have to do data augmentation or estimate class weights. We'll revisit this later when we develop our models."
   ]
  }
 ],
 "metadata": {
  "kernelspec": {
   "display_name": "Python 3 (ipykernel)",
   "language": "python",
   "name": "python3"
  },
  "language_info": {
   "codemirror_mode": {
    "name": "ipython",
    "version": 3
   },
   "file_extension": ".py",
   "mimetype": "text/x-python",
   "name": "python",
   "nbconvert_exporter": "python",
   "pygments_lexer": "ipython3",
   "version": "3.10.9"
  }
 },
 "nbformat": 4,
 "nbformat_minor": 2
}
