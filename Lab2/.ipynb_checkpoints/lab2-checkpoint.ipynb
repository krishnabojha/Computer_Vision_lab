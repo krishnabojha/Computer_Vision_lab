{
 "cells": [
  {
   "cell_type": "code",
   "execution_count": 14,
   "id": "9bb798a2",
   "metadata": {},
   "outputs": [
    {
     "ename": "IndexError",
     "evalue": "index 256 is out of bounds for axis 0 with size 256",
     "output_type": "error",
     "traceback": [
      "\u001b[1;31m---------------------------------------------------------------------------\u001b[0m",
      "\u001b[1;31mIndexError\u001b[0m                                Traceback (most recent call last)",
      "Cell \u001b[1;32mIn[14], line 16\u001b[0m\n\u001b[0;32m     12\u001b[0m     plt\u001b[38;5;241m.\u001b[39mbar(keys, count)\n\u001b[0;32m     13\u001b[0m     plt\u001b[38;5;241m.\u001b[39mshow()\n\u001b[1;32m---> 16\u001b[0m \u001b[43mhist_values\u001b[49m\u001b[43m(\u001b[49m\u001b[43mimage\u001b[49m\u001b[43m)\u001b[49m\n",
      "Cell \u001b[1;32mIn[14], line 9\u001b[0m, in \u001b[0;36mhist_values\u001b[1;34m(img)\u001b[0m\n\u001b[0;32m      7\u001b[0m \u001b[38;5;28;01mfor\u001b[39;00m j \u001b[38;5;129;01min\u001b[39;00m \u001b[38;5;28mrange\u001b[39m (img\u001b[38;5;241m.\u001b[39msize):\n\u001b[0;32m      8\u001b[0m     \u001b[38;5;28;01mfor\u001b[39;00m k \u001b[38;5;129;01min\u001b[39;00m \u001b[38;5;28mrange\u001b[39m(\u001b[38;5;241m256\u001b[39m):\n\u001b[1;32m----> 9\u001b[0m         r,g,b \u001b[38;5;241m=\u001b[39m \u001b[43mimg\u001b[49m\u001b[43m[\u001b[49m\u001b[43mj\u001b[49m\u001b[43m,\u001b[49m\u001b[43m \u001b[49m\u001b[43mk\u001b[49m\u001b[43m]\u001b[49m\n\u001b[0;32m     10\u001b[0m         a\u001b[38;5;241m.\u001b[39mappend(r)\n\u001b[0;32m     11\u001b[0m keys, count \u001b[38;5;241m=\u001b[39m np\u001b[38;5;241m.\u001b[39munique(a, return_counts \u001b[38;5;241m=\u001b[39m \u001b[38;5;28;01mTrue\u001b[39;00m)\n",
      "\u001b[1;31mIndexError\u001b[0m: index 256 is out of bounds for axis 0 with size 256"
     ]
    }
   ],
   "source": [
    "import cv2\n",
    "import numpy as np\n",
    "import matplotlib.pyplot as plt\n",
    "image = cv2.imread('./images/test_pattern.tif')\n",
    "def hist_values(img):\n",
    "    red = []\n",
    "    green = []\n",
    "    blue = []\n",
    "    \n",
    "    shape = img.shape\n",
    "    for j in range (shape(0)):\n",
    "        for k in range(shape(1)):\n",
    "            r,g,b = img[j, k]\n",
    "            red.append(r)\n",
    "            green.append(g)\n",
    "            blue.append(b)\n",
    "    keysRed, countRed = np.unique(red, return_counts = True)\n",
    "    keysGreen, countGreen = np.unique(green, return_counts = True)\n",
    "    keysBlue, countBlue = np.unique(blue, return_counts = True)\n",
    "    \n",
    "    return {\n",
    "        keysRed:keyRed,\n",
    "        countRed:countRed,\n",
    "        keysGreen:keysGreen,\n",
    "        countGreen:countGreen,\n",
    "        keyBlue: keyBlue,\n",
    "        countBlue:countBlue\n",
    "    }\n",
    "    \n",
    "\n",
    "hist_values(image)\n",
    "    "
   ]
  },
  {
   "cell_type": "code",
   "execution_count": null,
   "id": "cecc0627",
   "metadata": {},
   "outputs": [],
   "source": [
    "\n",
    "np.random.normal(0,20, image.shape)"
   ]
  },
  {
   "cell_type": "code",
   "execution_count": 9,
   "id": "90048dad",
   "metadata": {},
   "outputs": [],
   "source": [
    "keys, count = np.unique([1,5,5,2,5], return_counts = True)"
   ]
  },
  {
   "cell_type": "code",
   "execution_count": 26,
   "id": "ca7f38d1",
   "metadata": {},
   "outputs": [
    {
     "data": {
      "text/plain": [
       "(256, 256, 3)"
      ]
     },
     "execution_count": 26,
     "metadata": {},
     "output_type": "execute_result"
    }
   ],
   "source": [
    "image.shape"
   ]
  },
  {
   "cell_type": "code",
   "execution_count": null,
   "id": "5863b28b",
   "metadata": {},
   "outputs": [],
   "source": []
  }
 ],
 "metadata": {
  "kernelspec": {
   "display_name": "Python 3 (ipykernel)",
   "language": "python",
   "name": "python3"
  },
  "language_info": {
   "codemirror_mode": {
    "name": "ipython",
    "version": 3
   },
   "file_extension": ".py",
   "mimetype": "text/x-python",
   "name": "python",
   "nbconvert_exporter": "python",
   "pygments_lexer": "ipython3",
   "version": "3.10.9"
  }
 },
 "nbformat": 4,
 "nbformat_minor": 5
}
