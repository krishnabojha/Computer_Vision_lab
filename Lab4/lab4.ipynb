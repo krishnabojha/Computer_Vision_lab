{
 "cells": [
  {
   "cell_type": "markdown",
   "id": "a2b119a5",
   "metadata": {},
   "source": [
    "# import required library"
   ]
  },
  {
   "cell_type": "code",
   "execution_count": 3,
   "id": "8935bd7c",
   "metadata": {},
   "outputs": [],
   "source": [
    "import cv2\n",
    "import matplotlib.pyplot as plt\n",
    "import numpy as np"
   ]
  },
  {
   "cell_type": "markdown",
   "id": "4e562476",
   "metadata": {},
   "source": [
    "# Show 2 image plot method"
   ]
  },
  {
   "cell_type": "code",
   "execution_count": null,
   "id": "86823b89",
   "metadata": {},
   "outputs": [],
   "source": [
    "def showImages(oImage, oLabel, cImage, cLabel):\n",
    "    fig = plt.figure(figsize=(10,7))\n",
    "    fig.add_subplot(1,2,1)\n",
    "    plt.imshow(oImage)\n",
    "    plt.title(oLabel or 'Original Image' )\n",
    "    fig.add_subplot(1,2,2)\n",
    "    plt.imshow(cImage)\n",
    "    plt.title(cLabel or 'Changed Image')"
   ]
  }
 ],
 "metadata": {
  "kernelspec": {
   "display_name": "Python 3 (ipykernel)",
   "language": "python",
   "name": "python3"
  },
  "language_info": {
   "codemirror_mode": {
    "name": "ipython",
    "version": 3
   },
   "file_extension": ".py",
   "mimetype": "text/x-python",
   "name": "python",
   "nbconvert_exporter": "python",
   "pygments_lexer": "ipython3",
   "version": "3.10.9"
  }
 },
 "nbformat": 4,
 "nbformat_minor": 5
}
